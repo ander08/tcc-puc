{
 "cells": [
  {
   "cell_type": "markdown",
   "id": "a198070b",
   "metadata": {},
   "source": [
    "## TRABALHO DE CONCLUSÃO DE CURSO EM CIÊNCIA DE DADOS - PUC MINAS\n",
    "## Aluno: Anderson Lhoret\n",
    "## MODELO PREDITIVO DE DURAÇÃO DE OPERAÇÃO DE TRÂNSITO ADUANEIRO\n",
    "# Notebook 1.2: Coleta de dados - Google Maps API Elevation\n",
    "\n",
    "Consulta a 'Elevation API' da plataforma Google Maps em busca da altitude de um local."
   ]
  },
  {
   "cell_type": "code",
   "execution_count": 3,
   "id": "75b14271",
   "metadata": {},
   "outputs": [],
   "source": [
    "import json\n",
    "import nbconvert\n",
    "import pandas as pd\n",
    "import requests"
   ]
  },
  {
   "cell_type": "code",
   "execution_count": 4,
   "id": "3dab6f6e",
   "metadata": {},
   "outputs": [],
   "source": [
    "def parse_elevation_api_response(resposta):\n",
    "    if resposta is None:\n",
    "        return None\n",
    "    \n",
    "    elevacao = None\n",
    "        \n",
    "    # The variable data contains the JSON as a Python dictionary\n",
    "    data = json.loads(resposta)    \n",
    "    if data['status'] == 'OK':        \n",
    "        elemento = data['results'][0]\n",
    "        elevacao = elemento['elevation']\n",
    "    else:\n",
    "        print ('Request status code: {}'.format(data['status']))\n",
    "    return (elevacao)"
   ]
  },
  {
   "cell_type": "code",
   "execution_count": 5,
   "id": "b022e8b1",
   "metadata": {},
   "outputs": [],
   "source": [
    "# Arquivo com as coordenadas (latitude e longitude) de um local\n",
    "input_file = 'tabela_coordenadas.csv'\n",
    "\n",
    "# Arquivo com as coordenadas mais coluna de elevação\n",
    "output_file = 'tabela_coordenadas_elevacao.csv'\n",
    "\n",
    "# Chave para acessar serviço da plataforma Google Maps\n",
    "API_KEY = ''"
   ]
  },
  {
   "cell_type": "code",
   "execution_count": 6,
   "id": "fbd03040",
   "metadata": {},
   "outputs": [
    {
     "data": {
      "text/html": [
       "<div>\n",
       "<style scoped>\n",
       "    .dataframe tbody tr th:only-of-type {\n",
       "        vertical-align: middle;\n",
       "    }\n",
       "\n",
       "    .dataframe tbody tr th {\n",
       "        vertical-align: top;\n",
       "    }\n",
       "\n",
       "    .dataframe thead th {\n",
       "        text-align: right;\n",
       "    }\n",
       "</style>\n",
       "<table border=\"1\" class=\"dataframe\">\n",
       "  <thead>\n",
       "    <tr style=\"text-align: right;\">\n",
       "      <th></th>\n",
       "      <th>latitude</th>\n",
       "      <th>longitude</th>\n",
       "    </tr>\n",
       "  </thead>\n",
       "  <tbody>\n",
       "    <tr>\n",
       "      <th>0</th>\n",
       "      <td>-29.894283</td>\n",
       "      <td>-51.173923</td>\n",
       "    </tr>\n",
       "    <tr>\n",
       "      <th>1</th>\n",
       "      <td>-22.313276</td>\n",
       "      <td>-49.133789</td>\n",
       "    </tr>\n",
       "    <tr>\n",
       "      <th>2</th>\n",
       "      <td>-23.008442</td>\n",
       "      <td>-47.144659</td>\n",
       "    </tr>\n",
       "    <tr>\n",
       "      <th>3</th>\n",
       "      <td>23.425529</td>\n",
       "      <td>46.487609</td>\n",
       "    </tr>\n",
       "    <tr>\n",
       "      <th>4</th>\n",
       "      <td>-1.424906</td>\n",
       "      <td>-48.491270</td>\n",
       "    </tr>\n",
       "  </tbody>\n",
       "</table>\n",
       "</div>"
      ],
      "text/plain": [
       "    latitude  longitude\n",
       "0 -29.894283 -51.173923\n",
       "1 -22.313276 -49.133789\n",
       "2 -23.008442 -47.144659\n",
       "3  23.425529  46.487609\n",
       "4  -1.424906 -48.491270"
      ]
     },
     "execution_count": 6,
     "metadata": {},
     "output_type": "execute_result"
    }
   ],
   "source": [
    "df = pd.read_csv(input_file)\n",
    "df.head()"
   ]
  },
  {
   "cell_type": "code",
   "execution_count": 7,
   "id": "b3f5fd38",
   "metadata": {},
   "outputs": [],
   "source": [
    "# Acrescenta uma nova coluna para a variável 'elevacao'\n",
    "df['elevacao'] = ''"
   ]
  },
  {
   "cell_type": "code",
   "execution_count": null,
   "id": "ea7973f7",
   "metadata": {},
   "outputs": [],
   "source": [
    "for i in range(len(df)):\n",
    "    print ('Loop: {}'.format(i))\n",
    "\n",
    "    # latitude e longitude da origem\n",
    "    coordenadas = df.iloc[i,0].astype(str) + '%2C' + df.iloc[i,1].astype(str)\n",
    "    \n",
    "    # URL da API DistanceMatrix do Google\n",
    "    url = 'https://maps.googleapis.com/maps/api/elevation/json?locations='+ coordenadas + '&key=' + API_KEY\n",
    "    #print(url)\n",
    "    payload={}\n",
    "    headers = {}\n",
    "\n",
    "    response = requests.request(\"GET\", url, headers=headers, data=payload)\n",
    "    #print(response.text)\n",
    "    df.iloc[i, 2] = parse_elevation_api_response(response.text)"
   ]
  },
  {
   "cell_type": "code",
   "execution_count": 9,
   "id": "7205219e",
   "metadata": {},
   "outputs": [
    {
     "data": {
      "text/html": [
       "<div>\n",
       "<style scoped>\n",
       "    .dataframe tbody tr th:only-of-type {\n",
       "        vertical-align: middle;\n",
       "    }\n",
       "\n",
       "    .dataframe tbody tr th {\n",
       "        vertical-align: top;\n",
       "    }\n",
       "\n",
       "    .dataframe thead th {\n",
       "        text-align: right;\n",
       "    }\n",
       "</style>\n",
       "<table border=\"1\" class=\"dataframe\">\n",
       "  <thead>\n",
       "    <tr style=\"text-align: right;\">\n",
       "      <th></th>\n",
       "      <th>latitude</th>\n",
       "      <th>longitude</th>\n",
       "      <th>altitude</th>\n",
       "    </tr>\n",
       "  </thead>\n",
       "  <tbody>\n",
       "    <tr>\n",
       "      <th>0</th>\n",
       "      <td>-29.894283</td>\n",
       "      <td>-51.173923</td>\n",
       "      <td>14.400117</td>\n",
       "    </tr>\n",
       "    <tr>\n",
       "      <th>1</th>\n",
       "      <td>-22.313276</td>\n",
       "      <td>-49.133789</td>\n",
       "      <td>596.585388</td>\n",
       "    </tr>\n",
       "    <tr>\n",
       "      <th>2</th>\n",
       "      <td>-23.008442</td>\n",
       "      <td>-47.144659</td>\n",
       "      <td>656.134888</td>\n",
       "    </tr>\n",
       "    <tr>\n",
       "      <th>3</th>\n",
       "      <td>23.425529</td>\n",
       "      <td>46.487609</td>\n",
       "      <td>1103.664673</td>\n",
       "    </tr>\n",
       "    <tr>\n",
       "      <th>4</th>\n",
       "      <td>-1.424906</td>\n",
       "      <td>-48.491270</td>\n",
       "      <td>2.675423</td>\n",
       "    </tr>\n",
       "  </tbody>\n",
       "</table>\n",
       "</div>"
      ],
      "text/plain": [
       "    latitude  longitude     altitude\n",
       "0 -29.894283 -51.173923    14.400117\n",
       "1 -22.313276 -49.133789   596.585388\n",
       "2 -23.008442 -47.144659   656.134888\n",
       "3  23.425529  46.487609  1103.664673\n",
       "4  -1.424906 -48.491270     2.675423"
      ]
     },
     "execution_count": 9,
     "metadata": {},
     "output_type": "execute_result"
    }
   ],
   "source": [
    "df.head()"
   ]
  },
  {
   "cell_type": "code",
   "execution_count": 10,
   "id": "710ebd88",
   "metadata": {},
   "outputs": [],
   "source": [
    "# Salva novo arquivo CSV com as informações obtidas da Elevation API do Google\n",
    "df.to_csv(output_file, index = False)"
   ]
  },
  {
   "cell_type": "code",
   "execution_count": null,
   "id": "d5986f8d",
   "metadata": {},
   "outputs": [],
   "source": []
  }
 ],
 "metadata": {
  "kernelspec": {
   "display_name": "Python 3 (ipykernel)",
   "language": "python",
   "name": "python3"
  },
  "language_info": {
   "codemirror_mode": {
    "name": "ipython",
    "version": 3
   },
   "file_extension": ".py",
   "mimetype": "text/x-python",
   "name": "python",
   "nbconvert_exporter": "python",
   "pygments_lexer": "ipython3",
   "version": "3.8.8"
  }
 },
 "nbformat": 4,
 "nbformat_minor": 5
}
