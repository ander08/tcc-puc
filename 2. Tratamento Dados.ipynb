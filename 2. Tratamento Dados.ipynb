{
 "cells": [
  {
   "cell_type": "markdown",
   "metadata": {},
   "source": [
    "## TRABALHO DE CONCLUSÃO DE CURSO EM CIÊNCIA DE DADOS - PUC MINAS\r\n",
    "## Aluno: Anderson Lhoret\r\n",
    "## MODELO PREDITIVO DE DURAÇÃO DE OPERAÇÃO DE TRÂNSITO ADUANEIRO\r\n",
    "# Notebook 2: Consolidação das bases e Tratamento dos Dados"
   ]
  },
  {
   "cell_type": "code",
   "execution_count": 27,
   "metadata": {},
   "outputs": [],
   "source": [
    "import datetime\n",
    "import numpy as np\n",
    "import pandas as pd\n",
    "import re"
   ]
  },
  {
   "cell_type": "markdown",
   "metadata": {},
   "source": [
    "## 1. Inicialização dos datasets"
   ]
  },
  {
   "cell_type": "code",
   "execution_count": 28,
   "metadata": {},
   "outputs": [],
   "source": [
    "# Base do Transito Aduaneiro\n",
    "transito_csv = 'transito_aduaneiro.csv'\n",
    "\n",
    "# Base do Google Maps - API Elevation\n",
    "google_elevacao_csv = 'tabela_coordenadas_elevacao.csv'\n",
    "\n",
    "# Base do Google Maps - API Distance Matrix\n",
    "google_distancias_csv = 'tabela_distancias_ok.csv'\n",
    "\n",
    "# Dataset gerado com a consolidação das bases\n",
    "output_file = 'dataset_tratado.pkl'"
   ]
  },
  {
   "cell_type": "code",
   "execution_count": 29,
   "metadata": {},
   "outputs": [],
   "source": [
    "# Leitura dos dados em arquivo CSV e carregamento em DataFrame\n",
    "df = pd.read_csv(transito_csv)\n",
    "df_e = pd.read_csv(google_elevacao_csv)\n",
    "df_d = pd.read_csv(google_distancias_csv)"
   ]
  },
  {
   "cell_type": "code",
   "execution_count": 30,
   "metadata": {},
   "outputs": [
    {
     "name": "stdout",
     "output_type": "stream",
     "text": [
      "transito_csv: ['dataHoraInicioTransito', 'dataHoraChegadaTransito', 'peso_bruto', 'origem_codUrf', 'origem_codigoRecinto', 'origem_latitude', 'origem_longitude', 'dest_realizado_codUrf', 'dest_realizado_codigoRecinto', 'dest_realizado_latitude', 'dest_realizado_longitude']\n",
      "\n",
      "google_elevacao_csv: ['latitude', 'longitude', 'elevacao']\n",
      "\n",
      "google_distancias_csv: ['origem_latitude', 'origem_longitude', 'dest_realizado_latitude', 'dest_realizado_longitude', 'distancia_text', 'distancia_value', 'duracao_text_Google', 'duracao_value_Google', 'endereco_origem', 'endereco_destino']\n"
     ]
    }
   ],
   "source": [
    "# Imprime as colunas de cada arquivo\n",
    "print('transito_csv: ' + str(list(df)))\n",
    "print()\n",
    "print('google_elevacao_csv: ' + str(list(df_e)))\n",
    "print()\n",
    "print('google_distancias_csv: ' + str(list(df_d)))"
   ]
  },
  {
   "cell_type": "markdown",
   "metadata": {},
   "source": [
    "## 2. Tratamento da base de dados do Trânsito Aduaneiro"
   ]
  },
  {
   "cell_type": "code",
   "execution_count": 31,
   "metadata": {},
   "outputs": [],
   "source": [
    "# Cria um campo com a concatenação dos códigos de Unidade Aduaneira da origem e do destino para representar a viagem\n",
    "df['orig&dest'] = df['origem_codUrf'].astype(str) + \" \" + df['dest_realizado_codUrf'].astype(str)"
   ]
  },
  {
   "cell_type": "code",
   "execution_count": 32,
   "metadata": {},
   "outputs": [],
   "source": [
    "# Remove as colunas relativas à Recinto e Unidade Aduaneira que não serão mais utilizadas\n",
    "df.drop(columns=['origem_codUrf', 'origem_codigoRecinto', 'dest_realizado_codUrf', 'dest_realizado_codigoRecinto'], inplace=True)"
   ]
  },
  {
   "cell_type": "code",
   "execution_count": 33,
   "metadata": {},
   "outputs": [
    {
     "data": {
      "text/html": [
       "<div>\n",
       "<style scoped>\n",
       "    .dataframe tbody tr th:only-of-type {\n",
       "        vertical-align: middle;\n",
       "    }\n",
       "\n",
       "    .dataframe tbody tr th {\n",
       "        vertical-align: top;\n",
       "    }\n",
       "\n",
       "    .dataframe thead th {\n",
       "        text-align: right;\n",
       "    }\n",
       "</style>\n",
       "<table border=\"1\" class=\"dataframe\">\n",
       "  <thead>\n",
       "    <tr style=\"text-align: right;\">\n",
       "      <th></th>\n",
       "      <th>dataHoraInicioTransito</th>\n",
       "      <th>dataHoraChegadaTransito</th>\n",
       "      <th>peso_bruto</th>\n",
       "      <th>origem_latitude</th>\n",
       "      <th>origem_longitude</th>\n",
       "      <th>dest_realizado_latitude</th>\n",
       "      <th>dest_realizado_longitude</th>\n",
       "      <th>orig&amp;dest</th>\n",
       "    </tr>\n",
       "  </thead>\n",
       "  <tbody>\n",
       "    <tr>\n",
       "      <th>0</th>\n",
       "      <td>2018-11-06 10:30:16</td>\n",
       "      <td>2018-11-09 12:01:08</td>\n",
       "      <td>5064.00</td>\n",
       "      <td>-29.894283</td>\n",
       "      <td>-51.173923</td>\n",
       "      <td>-23.928333</td>\n",
       "      <td>-46.369167</td>\n",
       "      <td>1017800 817800</td>\n",
       "    </tr>\n",
       "    <tr>\n",
       "      <th>1</th>\n",
       "      <td>2019-01-15 15:56:09</td>\n",
       "      <td>2019-01-16 16:53:34</td>\n",
       "      <td>14006.72</td>\n",
       "      <td>-22.313276</td>\n",
       "      <td>-49.133789</td>\n",
       "      <td>-25.511146</td>\n",
       "      <td>-54.565616</td>\n",
       "      <td>810300 917500</td>\n",
       "    </tr>\n",
       "    <tr>\n",
       "      <th>2</th>\n",
       "      <td>2019-01-15 15:06:30</td>\n",
       "      <td>2019-01-16 18:49:45</td>\n",
       "      <td>10005.00</td>\n",
       "      <td>-23.008442</td>\n",
       "      <td>-47.144659</td>\n",
       "      <td>-23.425529</td>\n",
       "      <td>-46.487609</td>\n",
       "      <td>817700 817600</td>\n",
       "    </tr>\n",
       "    <tr>\n",
       "      <th>3</th>\n",
       "      <td>2019-01-15 15:52:30</td>\n",
       "      <td>2019-01-16 16:53:01</td>\n",
       "      <td>15605.88</td>\n",
       "      <td>-22.313276</td>\n",
       "      <td>-49.133789</td>\n",
       "      <td>-25.511146</td>\n",
       "      <td>-54.565616</td>\n",
       "      <td>810300 917500</td>\n",
       "    </tr>\n",
       "    <tr>\n",
       "      <th>4</th>\n",
       "      <td>2019-01-15 15:01:18</td>\n",
       "      <td>2019-01-17 12:13:32</td>\n",
       "      <td>13588.45</td>\n",
       "      <td>-29.894283</td>\n",
       "      <td>-51.173923</td>\n",
       "      <td>-23.425529</td>\n",
       "      <td>-46.487609</td>\n",
       "      <td>1017800 817600</td>\n",
       "    </tr>\n",
       "  </tbody>\n",
       "</table>\n",
       "</div>"
      ],
      "text/plain": [
       "  dataHoraInicioTransito dataHoraChegadaTransito  peso_bruto  origem_latitude  \\\n",
       "0    2018-11-06 10:30:16     2018-11-09 12:01:08     5064.00       -29.894283   \n",
       "1    2019-01-15 15:56:09     2019-01-16 16:53:34    14006.72       -22.313276   \n",
       "2    2019-01-15 15:06:30     2019-01-16 18:49:45    10005.00       -23.008442   \n",
       "3    2019-01-15 15:52:30     2019-01-16 16:53:01    15605.88       -22.313276   \n",
       "4    2019-01-15 15:01:18     2019-01-17 12:13:32    13588.45       -29.894283   \n",
       "\n",
       "   origem_longitude  dest_realizado_latitude  dest_realizado_longitude  \\\n",
       "0        -51.173923               -23.928333                -46.369167   \n",
       "1        -49.133789               -25.511146                -54.565616   \n",
       "2        -47.144659               -23.425529                -46.487609   \n",
       "3        -49.133789               -25.511146                -54.565616   \n",
       "4        -51.173923               -23.425529                -46.487609   \n",
       "\n",
       "        orig&dest  \n",
       "0  1017800 817800  \n",
       "1   810300 917500  \n",
       "2   817700 817600  \n",
       "3   810300 917500  \n",
       "4  1017800 817600  "
      ]
     },
     "execution_count": 33,
     "metadata": {},
     "output_type": "execute_result"
    }
   ],
   "source": [
    "df.head()"
   ]
  },
  {
   "cell_type": "code",
   "execution_count": 34,
   "metadata": {},
   "outputs": [],
   "source": [
    "# Converte data e hora de início e chegada para tipo 'datetime64' e salva nas colunas 'dt_inicio' e 'dt_conclusao'\n",
    "df.insert(0, 'dt_inicio', pd.to_datetime(df['dataHoraInicioTransito'], format='%Y-%m-%d %H:%M:%S'))\n",
    "df.insert(1, 'dt_conclusao', pd.to_datetime(df['dataHoraChegadaTransito'], format='%Y-%m-%d %H:%M:%S'))"
   ]
  },
  {
   "cell_type": "code",
   "execution_count": 35,
   "metadata": {},
   "outputs": [],
   "source": [
    "# Adiciona variável categórica da Hora Do Dia (HDD)\n",
    "# Esta variável representa a hora em que teve início a operação de trânsito\n",
    "df['HDD'] = pd.cut(df.dt_inicio.dt.hour, \n",
    "                    bins = list(range(0, 25, 1)),\n",
    "                    right = False,\n",
    "                    include_lowest = True,\n",
    "                    labels = list(range(0, 24, 1)))"
   ]
  },
  {
   "cell_type": "code",
   "execution_count": 36,
   "metadata": {},
   "outputs": [],
   "source": [
    "# Define uma nova coluna para a variável categórica de Dia Da Semana (DDS)\n",
    "# Esta variável representa o dia da semana em que teve início a operação de trânsito\n",
    "df['DDS'] = df['dt_inicio'].dt.day_name()"
   ]
  },
  {
   "cell_type": "code",
   "execution_count": 37,
   "metadata": {},
   "outputs": [],
   "source": [
    "# Criação das variáveis dummy para a categoria Dia Da Semana\r\n",
    "# df_dummies = pd.get_dummies(df['DDS'])\r\n",
    "# df = pd.concat([df, df_dummies], axis=1)\r\n",
    "# df.drop(['DDS'], inplace=True, axis=1)"
   ]
  },
  {
   "cell_type": "code",
   "execution_count": 38,
   "metadata": {},
   "outputs": [],
   "source": [
    "# Calcula o tempo de duração do trânsito, em horas e salva na coluna 'duracao'\n",
    "df['duracao'] = (df['dt_conclusao'] - df['dt_inicio']) / pd.Timedelta(hours=1)"
   ]
  },
  {
   "cell_type": "code",
   "execution_count": 39,
   "metadata": {
    "scrolled": true
   },
   "outputs": [
    {
     "data": {
      "text/html": [
       "<div>\n",
       "<style scoped>\n",
       "    .dataframe tbody tr th:only-of-type {\n",
       "        vertical-align: middle;\n",
       "    }\n",
       "\n",
       "    .dataframe tbody tr th {\n",
       "        vertical-align: top;\n",
       "    }\n",
       "\n",
       "    .dataframe thead th {\n",
       "        text-align: right;\n",
       "    }\n",
       "</style>\n",
       "<table border=\"1\" class=\"dataframe\">\n",
       "  <thead>\n",
       "    <tr style=\"text-align: right;\">\n",
       "      <th></th>\n",
       "      <th>dt_inicio</th>\n",
       "      <th>dt_conclusao</th>\n",
       "      <th>dataHoraInicioTransito</th>\n",
       "      <th>dataHoraChegadaTransito</th>\n",
       "      <th>peso_bruto</th>\n",
       "      <th>origem_latitude</th>\n",
       "      <th>origem_longitude</th>\n",
       "      <th>dest_realizado_latitude</th>\n",
       "      <th>dest_realizado_longitude</th>\n",
       "      <th>orig&amp;dest</th>\n",
       "      <th>HDD</th>\n",
       "      <th>DDS</th>\n",
       "      <th>duracao</th>\n",
       "    </tr>\n",
       "  </thead>\n",
       "  <tbody>\n",
       "    <tr>\n",
       "      <th>0</th>\n",
       "      <td>2018-11-06 10:30:16</td>\n",
       "      <td>2018-11-09 12:01:08</td>\n",
       "      <td>2018-11-06 10:30:16</td>\n",
       "      <td>2018-11-09 12:01:08</td>\n",
       "      <td>5064.00</td>\n",
       "      <td>-29.894283</td>\n",
       "      <td>-51.173923</td>\n",
       "      <td>-23.928333</td>\n",
       "      <td>-46.369167</td>\n",
       "      <td>1017800 817800</td>\n",
       "      <td>10</td>\n",
       "      <td>Tuesday</td>\n",
       "      <td>73.514444</td>\n",
       "    </tr>\n",
       "    <tr>\n",
       "      <th>1</th>\n",
       "      <td>2019-01-15 15:56:09</td>\n",
       "      <td>2019-01-16 16:53:34</td>\n",
       "      <td>2019-01-15 15:56:09</td>\n",
       "      <td>2019-01-16 16:53:34</td>\n",
       "      <td>14006.72</td>\n",
       "      <td>-22.313276</td>\n",
       "      <td>-49.133789</td>\n",
       "      <td>-25.511146</td>\n",
       "      <td>-54.565616</td>\n",
       "      <td>810300 917500</td>\n",
       "      <td>15</td>\n",
       "      <td>Tuesday</td>\n",
       "      <td>24.956944</td>\n",
       "    </tr>\n",
       "    <tr>\n",
       "      <th>2</th>\n",
       "      <td>2019-01-15 15:06:30</td>\n",
       "      <td>2019-01-16 18:49:45</td>\n",
       "      <td>2019-01-15 15:06:30</td>\n",
       "      <td>2019-01-16 18:49:45</td>\n",
       "      <td>10005.00</td>\n",
       "      <td>-23.008442</td>\n",
       "      <td>-47.144659</td>\n",
       "      <td>-23.425529</td>\n",
       "      <td>-46.487609</td>\n",
       "      <td>817700 817600</td>\n",
       "      <td>15</td>\n",
       "      <td>Tuesday</td>\n",
       "      <td>27.720833</td>\n",
       "    </tr>\n",
       "    <tr>\n",
       "      <th>3</th>\n",
       "      <td>2019-01-15 15:52:30</td>\n",
       "      <td>2019-01-16 16:53:01</td>\n",
       "      <td>2019-01-15 15:52:30</td>\n",
       "      <td>2019-01-16 16:53:01</td>\n",
       "      <td>15605.88</td>\n",
       "      <td>-22.313276</td>\n",
       "      <td>-49.133789</td>\n",
       "      <td>-25.511146</td>\n",
       "      <td>-54.565616</td>\n",
       "      <td>810300 917500</td>\n",
       "      <td>15</td>\n",
       "      <td>Tuesday</td>\n",
       "      <td>25.008611</td>\n",
       "    </tr>\n",
       "    <tr>\n",
       "      <th>4</th>\n",
       "      <td>2019-01-15 15:01:18</td>\n",
       "      <td>2019-01-17 12:13:32</td>\n",
       "      <td>2019-01-15 15:01:18</td>\n",
       "      <td>2019-01-17 12:13:32</td>\n",
       "      <td>13588.45</td>\n",
       "      <td>-29.894283</td>\n",
       "      <td>-51.173923</td>\n",
       "      <td>-23.425529</td>\n",
       "      <td>-46.487609</td>\n",
       "      <td>1017800 817600</td>\n",
       "      <td>15</td>\n",
       "      <td>Tuesday</td>\n",
       "      <td>45.203889</td>\n",
       "    </tr>\n",
       "  </tbody>\n",
       "</table>\n",
       "</div>"
      ],
      "text/plain": [
       "            dt_inicio        dt_conclusao dataHoraInicioTransito  \\\n",
       "0 2018-11-06 10:30:16 2018-11-09 12:01:08    2018-11-06 10:30:16   \n",
       "1 2019-01-15 15:56:09 2019-01-16 16:53:34    2019-01-15 15:56:09   \n",
       "2 2019-01-15 15:06:30 2019-01-16 18:49:45    2019-01-15 15:06:30   \n",
       "3 2019-01-15 15:52:30 2019-01-16 16:53:01    2019-01-15 15:52:30   \n",
       "4 2019-01-15 15:01:18 2019-01-17 12:13:32    2019-01-15 15:01:18   \n",
       "\n",
       "  dataHoraChegadaTransito  peso_bruto  origem_latitude  origem_longitude  \\\n",
       "0     2018-11-09 12:01:08     5064.00       -29.894283        -51.173923   \n",
       "1     2019-01-16 16:53:34    14006.72       -22.313276        -49.133789   \n",
       "2     2019-01-16 18:49:45    10005.00       -23.008442        -47.144659   \n",
       "3     2019-01-16 16:53:01    15605.88       -22.313276        -49.133789   \n",
       "4     2019-01-17 12:13:32    13588.45       -29.894283        -51.173923   \n",
       "\n",
       "   dest_realizado_latitude  dest_realizado_longitude       orig&dest HDD  \\\n",
       "0               -23.928333                -46.369167  1017800 817800  10   \n",
       "1               -25.511146                -54.565616   810300 917500  15   \n",
       "2               -23.425529                -46.487609   817700 817600  15   \n",
       "3               -25.511146                -54.565616   810300 917500  15   \n",
       "4               -23.425529                -46.487609  1017800 817600  15   \n",
       "\n",
       "       DDS    duracao  \n",
       "0  Tuesday  73.514444  \n",
       "1  Tuesday  24.956944  \n",
       "2  Tuesday  27.720833  \n",
       "3  Tuesday  25.008611  \n",
       "4  Tuesday  45.203889  "
      ]
     },
     "execution_count": 39,
     "metadata": {},
     "output_type": "execute_result"
    }
   ],
   "source": [
    "df.head()"
   ]
  },
  {
   "cell_type": "code",
   "execution_count": 40,
   "metadata": {},
   "outputs": [],
   "source": [
    "# Exclui as colunas originais de data/hora\n",
    "df.drop(columns=['dataHoraInicioTransito','dataHoraChegadaTransito'], inplace=True)"
   ]
  },
  {
   "cell_type": "markdown",
   "metadata": {},
   "source": [
    "## 3. Base do Google Maps - API Elevation\n",
    "\n",
    "Incorpora ao DataFrame principal e trata as informações da base oriunda da API Elevation do Google Maps:\n",
    " - Elevação da origem\n",
    " - Elevação do destino\n"
   ]
  },
  {
   "cell_type": "code",
   "execution_count": 41,
   "metadata": {},
   "outputs": [],
   "source": [
    "# Merge da variavel elevação para o local de origem\n",
    "df = df.merge(df_e,\n",
    "              left_on=['origem_latitude','origem_longitude'],\n",
    "              right_on=['latitude','longitude'],\n",
    "              how='left')\n",
    "\n",
    "# Elimina as colunas 'latitude' e 'longitude' do dataframe principal\n",
    "df.drop(columns=['latitude','longitude'], inplace=True)\n",
    "\n",
    "# Renomeia a coluna recem incorporada 'elevacao' para identificar a elevação do ponto de origem\n",
    "df.rename(columns={\"elevacao\": \"elevacao_origem\"}, inplace=True)\n",
    "\n",
    "# Merge da variavel elevação para o local de destino\n",
    "df = df.merge(df_e,\n",
    "              left_on=['dest_realizado_latitude','dest_realizado_longitude'],\n",
    "              right_on=['latitude','longitude'],\n",
    "              how='left')\n",
    "\n",
    "# Elimina as colunas 'latitude' e 'longitude' do dataframe principal\n",
    "df.drop(columns=['latitude','longitude'], inplace=True)\n",
    "\n",
    "# Renomeia a coluna recem incorporada 'elevacao' para identificar a elevação do ponto de destino\n",
    "df.rename(columns={\"elevacao\": \"elevacao_destino\"}, inplace=True)"
   ]
  },
  {
   "cell_type": "code",
   "execution_count": 42,
   "metadata": {},
   "outputs": [],
   "source": [
    "# Cria uma nova coluna 'delta_elevacao' representando a diferença na altitude entre ponto de destino e origem\n",
    "df['delta_elevacao'] = df['elevacao_destino'] - df['elevacao_origem']"
   ]
  },
  {
   "cell_type": "markdown",
   "metadata": {},
   "source": [
    "## 4. Base do Google Maps - API Distance Matrix\n",
    "\n",
    "Incorpora ao DataFrame principal e trata as informações da base oriunda da API Distance Matrix do Google Maps:\n",
    " - Distância entre origem e destino\n",
    " - Tempo de viagem rodoviária entre origem e destino"
   ]
  },
  {
   "cell_type": "code",
   "execution_count": 43,
   "metadata": {},
   "outputs": [],
   "source": [
    "# Converte a distancia 'x,xxx Km' para valor numérico 'xxxx'\n",
    "df_d['distancia'] = df_d['distancia_text'].str.replace(' km', '')\n",
    "df_d['distancia'] = df_d['distancia'].str.replace(',', '')\n",
    "df_d['distancia'] = df_d['distancia'].astype(float)\n",
    "# df_d.drop(columns=['distancia_text','distancia_value'])"
   ]
  },
  {
   "cell_type": "code",
   "execution_count": 44,
   "metadata": {},
   "outputs": [],
   "source": [
    "# Merge da variavel distancia para o par origem-destino\n",
    "df = df.merge(df_d[['origem_latitude', 'origem_longitude', 'dest_realizado_latitude', 'dest_realizado_longitude', 'distancia']],\n",
    "              on=['origem_latitude', 'origem_longitude', 'dest_realizado_latitude', 'dest_realizado_longitude'],\n",
    "              how='left')"
   ]
  },
  {
   "cell_type": "code",
   "execution_count": 45,
   "metadata": {},
   "outputs": [],
   "source": [
    "# Cria coluna com tempo em horas a partir do campo em segundos fornecido pela Google API\n",
    "#df.insert(7, 'duracao_min_Google', df['duracao_seg_Google'] / 60)\n",
    "df_d['duracao_horas_Google'] = df_d['duracao_value_Google'] / 60 /60\n",
    "\n",
    "# Merge da variavel duracaoGoogle para o par origem-destino\n",
    "df = df.merge(df_d[['origem_latitude', 'origem_longitude', 'dest_realizado_latitude', 'dest_realizado_longitude', 'duracao_horas_Google']],\n",
    "              on=['origem_latitude', 'origem_longitude', 'dest_realizado_latitude', 'dest_realizado_longitude'],\n",
    "              how='left')"
   ]
  },
  {
   "cell_type": "code",
   "execution_count": 46,
   "metadata": {},
   "outputs": [
    {
     "name": "stdout",
     "output_type": "stream",
     "text": [
      "<class 'pandas.core.frame.DataFrame'>\n",
      "Int64Index: 113580 entries, 0 to 113579\n",
      "Data columns (total 16 columns):\n",
      " #   Column                    Non-Null Count   Dtype         \n",
      "---  ------                    --------------   -----         \n",
      " 0   dt_inicio                 113580 non-null  datetime64[ns]\n",
      " 1   dt_conclusao              113580 non-null  datetime64[ns]\n",
      " 2   peso_bruto                113580 non-null  float64       \n",
      " 3   origem_latitude           113580 non-null  float64       \n",
      " 4   origem_longitude          113580 non-null  float64       \n",
      " 5   dest_realizado_latitude   113580 non-null  float64       \n",
      " 6   dest_realizado_longitude  113580 non-null  float64       \n",
      " 7   orig&dest                 113580 non-null  object        \n",
      " 8   HDD                       113580 non-null  category      \n",
      " 9   DDS                       113580 non-null  object        \n",
      " 10  duracao                   113580 non-null  float64       \n",
      " 11  elevacao_origem           113580 non-null  float64       \n",
      " 12  elevacao_destino          113580 non-null  float64       \n",
      " 13  delta_elevacao            113580 non-null  float64       \n",
      " 14  distancia                 112898 non-null  float64       \n",
      " 15  duracao_horas_Google      112898 non-null  float64       \n",
      "dtypes: category(1), datetime64[ns](2), float64(11), object(2)\n",
      "memory usage: 14.0+ MB\n"
     ]
    }
   ],
   "source": [
    "df.info()"
   ]
  },
  {
   "cell_type": "code",
   "execution_count": 47,
   "metadata": {},
   "outputs": [
    {
     "data": {
      "text/html": [
       "<div>\n",
       "<style scoped>\n",
       "    .dataframe tbody tr th:only-of-type {\n",
       "        vertical-align: middle;\n",
       "    }\n",
       "\n",
       "    .dataframe tbody tr th {\n",
       "        vertical-align: top;\n",
       "    }\n",
       "\n",
       "    .dataframe thead th {\n",
       "        text-align: right;\n",
       "    }\n",
       "</style>\n",
       "<table border=\"1\" class=\"dataframe\">\n",
       "  <thead>\n",
       "    <tr style=\"text-align: right;\">\n",
       "      <th></th>\n",
       "      <th>dt_inicio</th>\n",
       "      <th>dt_conclusao</th>\n",
       "      <th>peso_bruto</th>\n",
       "      <th>origem_latitude</th>\n",
       "      <th>origem_longitude</th>\n",
       "      <th>dest_realizado_latitude</th>\n",
       "      <th>dest_realizado_longitude</th>\n",
       "      <th>orig&amp;dest</th>\n",
       "      <th>HDD</th>\n",
       "      <th>DDS</th>\n",
       "      <th>duracao</th>\n",
       "      <th>elevacao_origem</th>\n",
       "      <th>elevacao_destino</th>\n",
       "      <th>delta_elevacao</th>\n",
       "      <th>distancia</th>\n",
       "      <th>duracao_horas_Google</th>\n",
       "    </tr>\n",
       "  </thead>\n",
       "  <tbody>\n",
       "    <tr>\n",
       "      <th>212</th>\n",
       "      <td>2019-04-17 11:36:56</td>\n",
       "      <td>2019-04-17 13:29:24</td>\n",
       "      <td>221.58</td>\n",
       "      <td>-23.262304</td>\n",
       "      <td>-45.950952</td>\n",
       "      <td>-23.262304</td>\n",
       "      <td>-45.950952</td>\n",
       "      <td>812000 812000</td>\n",
       "      <td>11</td>\n",
       "      <td>Wednesday</td>\n",
       "      <td>1.874444</td>\n",
       "      <td>573.214661</td>\n",
       "      <td>573.214661</td>\n",
       "      <td>0.0</td>\n",
       "      <td>NaN</td>\n",
       "      <td>NaN</td>\n",
       "    </tr>\n",
       "    <tr>\n",
       "      <th>401</th>\n",
       "      <td>2019-05-24 13:35:23</td>\n",
       "      <td>2019-05-28 10:34:30</td>\n",
       "      <td>36.80</td>\n",
       "      <td>-26.950575</td>\n",
       "      <td>-48.750261</td>\n",
       "      <td>-26.950575</td>\n",
       "      <td>-48.750261</td>\n",
       "      <td>927800 927800</td>\n",
       "      <td>13</td>\n",
       "      <td>Friday</td>\n",
       "      <td>92.985278</td>\n",
       "      <td>13.240047</td>\n",
       "      <td>13.240047</td>\n",
       "      <td>0.0</td>\n",
       "      <td>NaN</td>\n",
       "      <td>NaN</td>\n",
       "    </tr>\n",
       "    <tr>\n",
       "      <th>463</th>\n",
       "      <td>2020-06-15 20:11:53</td>\n",
       "      <td>2020-06-18 08:35:20</td>\n",
       "      <td>136.00</td>\n",
       "      <td>-29.989934</td>\n",
       "      <td>-51.176718</td>\n",
       "      <td>-29.989934</td>\n",
       "      <td>-51.176718</td>\n",
       "      <td>1017801 817600</td>\n",
       "      <td>20</td>\n",
       "      <td>Monday</td>\n",
       "      <td>60.390833</td>\n",
       "      <td>4.021640</td>\n",
       "      <td>4.021640</td>\n",
       "      <td>0.0</td>\n",
       "      <td>NaN</td>\n",
       "      <td>NaN</td>\n",
       "    </tr>\n",
       "    <tr>\n",
       "      <th>545</th>\n",
       "      <td>2020-12-01 18:54:16</td>\n",
       "      <td>2020-12-02 11:02:15</td>\n",
       "      <td>3000.00</td>\n",
       "      <td>-23.681718</td>\n",
       "      <td>-46.697327</td>\n",
       "      <td>-23.681718</td>\n",
       "      <td>-46.697327</td>\n",
       "      <td>817900 817900</td>\n",
       "      <td>18</td>\n",
       "      <td>Tuesday</td>\n",
       "      <td>16.133056</td>\n",
       "      <td>726.457642</td>\n",
       "      <td>726.457642</td>\n",
       "      <td>0.0</td>\n",
       "      <td>NaN</td>\n",
       "      <td>NaN</td>\n",
       "    </tr>\n",
       "    <tr>\n",
       "      <th>609</th>\n",
       "      <td>2021-09-01 13:39:47</td>\n",
       "      <td>2021-09-02 11:38:44</td>\n",
       "      <td>2130.00</td>\n",
       "      <td>-19.947702</td>\n",
       "      <td>-44.160691</td>\n",
       "      <td>-19.947702</td>\n",
       "      <td>-44.160691</td>\n",
       "      <td>617700 617700</td>\n",
       "      <td>13</td>\n",
       "      <td>Wednesday</td>\n",
       "      <td>21.982500</td>\n",
       "      <td>847.584045</td>\n",
       "      <td>847.584045</td>\n",
       "      <td>0.0</td>\n",
       "      <td>NaN</td>\n",
       "      <td>NaN</td>\n",
       "    </tr>\n",
       "  </tbody>\n",
       "</table>\n",
       "</div>"
      ],
      "text/plain": [
       "              dt_inicio        dt_conclusao  peso_bruto  origem_latitude  \\\n",
       "212 2019-04-17 11:36:56 2019-04-17 13:29:24      221.58       -23.262304   \n",
       "401 2019-05-24 13:35:23 2019-05-28 10:34:30       36.80       -26.950575   \n",
       "463 2020-06-15 20:11:53 2020-06-18 08:35:20      136.00       -29.989934   \n",
       "545 2020-12-01 18:54:16 2020-12-02 11:02:15     3000.00       -23.681718   \n",
       "609 2021-09-01 13:39:47 2021-09-02 11:38:44     2130.00       -19.947702   \n",
       "\n",
       "     origem_longitude  dest_realizado_latitude  dest_realizado_longitude  \\\n",
       "212        -45.950952               -23.262304                -45.950952   \n",
       "401        -48.750261               -26.950575                -48.750261   \n",
       "463        -51.176718               -29.989934                -51.176718   \n",
       "545        -46.697327               -23.681718                -46.697327   \n",
       "609        -44.160691               -19.947702                -44.160691   \n",
       "\n",
       "          orig&dest HDD        DDS    duracao  elevacao_origem  \\\n",
       "212   812000 812000  11  Wednesday   1.874444       573.214661   \n",
       "401   927800 927800  13     Friday  92.985278        13.240047   \n",
       "463  1017801 817600  20     Monday  60.390833         4.021640   \n",
       "545   817900 817900  18    Tuesday  16.133056       726.457642   \n",
       "609   617700 617700  13  Wednesday  21.982500       847.584045   \n",
       "\n",
       "     elevacao_destino  delta_elevacao  distancia  duracao_horas_Google  \n",
       "212        573.214661             0.0        NaN                   NaN  \n",
       "401         13.240047             0.0        NaN                   NaN  \n",
       "463          4.021640             0.0        NaN                   NaN  \n",
       "545        726.457642             0.0        NaN                   NaN  \n",
       "609        847.584045             0.0        NaN                   NaN  "
      ]
     },
     "execution_count": 47,
     "metadata": {},
     "output_type": "execute_result"
    }
   ],
   "source": [
    "# Verifica as linhas com NaN\n",
    "df1 = df[df.isna().any(axis=1)]\n",
    "df1.head()"
   ]
  },
  {
   "cell_type": "code",
   "execution_count": 48,
   "metadata": {},
   "outputs": [
    {
     "data": {
      "text/plain": [
       "682"
      ]
     },
     "execution_count": 48,
     "metadata": {},
     "output_type": "execute_result"
    }
   ],
   "source": [
    "# Conta as linhas com NaN\n",
    "len(df1)"
   ]
  },
  {
   "cell_type": "code",
   "execution_count": 49,
   "metadata": {},
   "outputs": [],
   "source": [
    "# Exclui linhas com NaN na coluna 'distancia'\n",
    "df.dropna(subset=['distancia'], inplace=True)"
   ]
  },
  {
   "cell_type": "code",
   "execution_count": 50,
   "metadata": {},
   "outputs": [
    {
     "name": "stdout",
     "output_type": "stream",
     "text": [
      "<class 'pandas.core.frame.DataFrame'>\n",
      "Int64Index: 112898 entries, 0 to 113579\n",
      "Data columns (total 16 columns):\n",
      " #   Column                    Non-Null Count   Dtype         \n",
      "---  ------                    --------------   -----         \n",
      " 0   dt_inicio                 112898 non-null  datetime64[ns]\n",
      " 1   dt_conclusao              112898 non-null  datetime64[ns]\n",
      " 2   peso_bruto                112898 non-null  float64       \n",
      " 3   origem_latitude           112898 non-null  float64       \n",
      " 4   origem_longitude          112898 non-null  float64       \n",
      " 5   dest_realizado_latitude   112898 non-null  float64       \n",
      " 6   dest_realizado_longitude  112898 non-null  float64       \n",
      " 7   orig&dest                 112898 non-null  object        \n",
      " 8   HDD                       112898 non-null  category      \n",
      " 9   DDS                       112898 non-null  object        \n",
      " 10  duracao                   112898 non-null  float64       \n",
      " 11  elevacao_origem           112898 non-null  float64       \n",
      " 12  elevacao_destino          112898 non-null  float64       \n",
      " 13  delta_elevacao            112898 non-null  float64       \n",
      " 14  distancia                 112898 non-null  float64       \n",
      " 15  duracao_horas_Google      112898 non-null  float64       \n",
      "dtypes: category(1), datetime64[ns](2), float64(11), object(2)\n",
      "memory usage: 13.9+ MB\n"
     ]
    }
   ],
   "source": [
    "df.info()"
   ]
  },
  {
   "cell_type": "markdown",
   "metadata": {},
   "source": [
    "## 5. Exportação do Dataset"
   ]
  },
  {
   "cell_type": "code",
   "execution_count": 52,
   "metadata": {},
   "outputs": [],
   "source": [
    "# Salva dataframe com o dataset tratado\n",
    "df.to_pickle(output_file)"
   ]
  }
 ],
 "metadata": {
  "kernelspec": {
   "display_name": "Python 3 (ipykernel)",
   "language": "python",
   "name": "python3"
  },
  "language_info": {
   "codemirror_mode": {
    "name": "ipython",
    "version": 3
   },
   "file_extension": ".py",
   "mimetype": "text/x-python",
   "name": "python",
   "nbconvert_exporter": "python",
   "pygments_lexer": "ipython3",
   "version": "3.8.8"
  }
 },
 "nbformat": 4,
 "nbformat_minor": 5
}