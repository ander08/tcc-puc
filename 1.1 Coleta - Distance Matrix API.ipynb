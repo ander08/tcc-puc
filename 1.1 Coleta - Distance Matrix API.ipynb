{
 "cells": [
  {
   "cell_type": "markdown",
   "id": "a7191c53",
   "metadata": {},
   "source": [
    "## TRABALHO DE CONCLUSÃO DE CURSO EM CIÊNCIA DE DADOS - PUC MINAS\n",
    "## Aluno: Anderson Lhoret\n",
    "## MODELO PREDITIVO DE DURAÇÃO DE OPERAÇÃO DE TRÂNSITO ADUANEIRO\n",
    "# Notebook 1.1: Coleta de dados - Google Maps API Distance Matrix"
   ]
  },
  {
   "cell_type": "code",
   "execution_count": 1,
   "id": "13e3d1d4",
   "metadata": {},
   "outputs": [],
   "source": [
    "import json\n",
    "import pandas as pd\n",
    "import requests"
   ]
  },
  {
   "cell_type": "code",
   "execution_count": 2,
   "id": "8e60db72",
   "metadata": {},
   "outputs": [],
   "source": [
    "\"\"\"\n",
    "Recebe a string json retornada pela API Distance Matrix do Google e recupera\n",
    "os valores de distancia e duração. Salva os elementos 'text' e 'value'.\n",
    "\"\"\"\n",
    "def parse_distance_matrix_response(resposta):\n",
    "    if resposta is None:\n",
    "        return None\n",
    "    \n",
    "    origin_addresses = None\n",
    "    destination_addresses = None\n",
    "    distance_text = None\n",
    "    distance_value = None\n",
    "    duration_text = None\n",
    "    duration_value = None\n",
    "    \n",
    "    # The variable data contains the JSON as a Python dictionary\n",
    "    data = json.loads(resposta)    \n",
    "    if data['status'] == 'OK':        \n",
    "        origin_addresses = data['origin_addresses'][0]\n",
    "        destination_addresses = data['destination_addresses'][0]\n",
    "        row = data['rows'][0]\n",
    "        elemento = row['elements'][0]        \n",
    "        if elemento['status'] == 'OK':\n",
    "            distance_text = elemento['distance']['text']\n",
    "            distance_value = elemento['distance']['value']\n",
    "            duration_text = elemento['duration']['text']\n",
    "            duration_value = elemento['duration']['value']\n",
    "    return (origin_addresses, destination_addresses, distance_text, distance_value, duration_text, duration_value)"
   ]
  },
  {
   "cell_type": "code",
   "execution_count": 3,
   "id": "b72808a9",
   "metadata": {},
   "outputs": [],
   "source": [
    "def isNaN(num):\n",
    "    return num != num"
   ]
  },
  {
   "cell_type": "code",
   "execution_count": 4,
   "id": "37d3f29c",
   "metadata": {},
   "outputs": [],
   "source": [
    "# Arquivo com as coordenadas (latitude e longitude) dos pares origens & destino das operações de trânsito aduaneiro.\n",
    "input_file = 'tabela_coordenadas.csv'\n",
    "\n",
    "# Arquivo salvo com as distâncias entre as coordenadas dos locais de origem e destino.\n",
    "output_file = 'tabela_distancias_ok.csv'\n",
    "\n",
    "# Chave para acessar serviço da plataforma Google Maps\n",
    "API_KEY = ''"
   ]
  },
  {
   "cell_type": "code",
   "execution_count": 5,
   "id": "cf1dd0cc",
   "metadata": {},
   "outputs": [],
   "source": [
    "df = pd.read_csv(input_file)"
   ]
  },
  {
   "cell_type": "code",
   "execution_count": 6,
   "id": "f92691f0",
   "metadata": {},
   "outputs": [],
   "source": [
    "# Acrescenta as novas colunas para distância e duração\n",
    "df['distancia_text'] = ''\n",
    "df['distancia_value'] = ''\n",
    "df['duracao_text_Google'] = ''\n",
    "df['duracao_value_Google'] = ''\n",
    "df['endereco_origem'] = ''\n",
    "df['endereco_destino'] = ''"
   ]
  },
  {
   "cell_type": "code",
   "execution_count": null,
   "id": "20db712f",
   "metadata": {},
   "outputs": [],
   "source": [
    "for i in range(len(df)):\n",
    "    print ('Loop: {}'.format(i))\n",
    "\n",
    "    # latitude e longitude da origem\n",
    "    origem = df.iloc[i,0].astype(str) + '%2C' + df.iloc[i,1].astype(str)\n",
    "    \n",
    "    # latitude e longitude do destino\n",
    "    destino = df.iloc[i,2].astype(str) + '%2C' + df.iloc[i,3].astype(str)\n",
    "\n",
    "    # URL da API DistanceMatrix do Google\n",
    "    url = 'https://maps.googleapis.com/maps/api/distancematrix/json?origins='+ origem +'&destinations='+ destino +'&key='  + API_KEY\n",
    "\n",
    "    #print(url)\n",
    "    payload={}\n",
    "    headers = {}\n",
    "\n",
    "    response = requests.request(\"GET\", url, headers=headers, data=payload)\n",
    "    #print(response.text)\n",
    "    endereco_origem, endereco_destino, distance_text, distance_value, duration_text, duration_value = parse_distance_matrix_response(response.text)\n",
    "    df.iloc[i, 4] = distance_text\n",
    "    df.iloc[i, 5] = distance_value\n",
    "    df.iloc[i, 6] = duration_text\n",
    "    df.iloc[i, 7] = duration_value\n",
    "    df.iloc[i, 8] = endereco_origem\n",
    "    df.iloc[i, 9] = endereco_destino"
   ]
  },
  {
   "cell_type": "code",
   "execution_count": 9,
   "id": "96999c08",
   "metadata": {},
   "outputs": [
    {
     "name": "stdout",
     "output_type": "stream",
     "text": [
      "<class 'pandas.core.frame.DataFrame'>\n",
      "RangeIndex: 1275 entries, 0 to 1274\n",
      "Data columns (total 10 columns):\n",
      " #   Column                    Non-Null Count  Dtype  \n",
      "---  ------                    --------------  -----  \n",
      " 0   origem_latitude           1275 non-null   float64\n",
      " 1   origem_longitude          1275 non-null   float64\n",
      " 2   dest_realizado_latitude   1275 non-null   float64\n",
      " 3   dest_realizado_longitude  1275 non-null   float64\n",
      " 4   distancia_text            1233 non-null   object \n",
      " 5   distancia_value           1233 non-null   object \n",
      " 6   duracao_text_Google       1233 non-null   object \n",
      " 7   duracao_value_Google      1233 non-null   object \n",
      " 8   endereco_origem           1274 non-null   object \n",
      " 9   endereco_destino          1274 non-null   object \n",
      "dtypes: float64(4), object(6)\n",
      "memory usage: 99.7+ KB\n"
     ]
    }
   ],
   "source": [
    "df.info()"
   ]
  },
  {
   "cell_type": "code",
   "execution_count": 11,
   "id": "c7b22dfe",
   "metadata": {},
   "outputs": [],
   "source": [
    "# Exclui linhas com colunas vazias que sao carregadas como NaN no DataFrame\n",
    "df = df[~isNaN(df['distancia_text'])]\n",
    "\n",
    "# Exclui linhas cuja distancia nao está em km\n",
    "df = df[(df['distancia_text'].str.contains('km'))]"
   ]
  },
  {
   "cell_type": "code",
   "execution_count": 13,
   "id": "a44d82c8",
   "metadata": {},
   "outputs": [
    {
     "name": "stdout",
     "output_type": "stream",
     "text": [
      "<class 'pandas.core.frame.DataFrame'>\n",
      "Int64Index: 1126 entries, 0 to 1274\n",
      "Data columns (total 10 columns):\n",
      " #   Column                    Non-Null Count  Dtype  \n",
      "---  ------                    --------------  -----  \n",
      " 0   origem_latitude           1126 non-null   float64\n",
      " 1   origem_longitude          1126 non-null   float64\n",
      " 2   dest_realizado_latitude   1126 non-null   float64\n",
      " 3   dest_realizado_longitude  1126 non-null   float64\n",
      " 4   distancia_text            1126 non-null   object \n",
      " 5   distancia_value           1126 non-null   object \n",
      " 6   duracao_text_Google       1126 non-null   object \n",
      " 7   duracao_value_Google      1126 non-null   object \n",
      " 8   endereco_origem           1126 non-null   object \n",
      " 9   endereco_destino          1126 non-null   object \n",
      "dtypes: float64(4), object(6)\n",
      "memory usage: 96.8+ KB\n"
     ]
    }
   ],
   "source": [
    "df.info()"
   ]
  },
  {
   "cell_type": "code",
   "execution_count": 14,
   "id": "40e022c8",
   "metadata": {},
   "outputs": [],
   "source": [
    "# Salva novo arquivo CSV com as informações obtidas da API Google\n",
    "df.to_csv(output_file, index = False)"
   ]
  }
 ],
 "metadata": {
  "kernelspec": {
   "display_name": "Python 3 (ipykernel)",
   "language": "python",
   "name": "python3"
  },
  "language_info": {
   "codemirror_mode": {
    "name": "ipython",
    "version": 3
   },
   "file_extension": ".py",
   "mimetype": "text/x-python",
   "name": "python",
   "nbconvert_exporter": "python",
   "pygments_lexer": "ipython3",
   "version": "3.8.8"
  }
 },
 "nbformat": 4,
 "nbformat_minor": 5
}
